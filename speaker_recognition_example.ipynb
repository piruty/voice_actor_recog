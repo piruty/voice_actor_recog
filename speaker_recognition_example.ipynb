{
  "cells": [
   {
    "cell_type": "markdown",
    "metadata": {},
    "source": [
     "# 話者認識システム - サンプルノートブック\n",
     "\n",
     "このノートブックでは、話者認識システムの主要な機能を試すことができます。"
    ]
   },
   {
    "cell_type": "code",
    "execution_count": null,
    "metadata": {},
    "source": [
     "import sys\n",
     "import os\n",
     "from pathlib import Path\n",
     "import numpy as np\n",
     "import pandas as pd\n",
     "import matplotlib.pyplot as plt\n",
     "import librosa\n",
     "import librosa.display\n",
     "\n",
     "# プロジェクトのルートディレクトリをパスに追加\n",
     "notebook_dir = Path().resolve()\n",
     "project_root = notebook_dir.parent\n",
     "sys.path.append(str(project_root))\n",
     "\n",
     "# プロジェクトの自作モジュールをインポート\n",
     "from src.features.extract_features import extract_mfcc, extract_features_from_dir\n",
     "from src.utils.audio_utils import load_audio, plot_waveform, plot_spectrogram"
    ]
   },
   {
    "cell_type": "markdown",
    "metadata": {},
    "source": [
     "## 1. 音声データの確認\n",
     "\n",
     "まず、話者のサンプル音声を読み込んで確認します。"
    ]
   },
   {
    "cell_type": "code",
    "execution_count": null,
    "metadata": {},
    "source": [
     "# データディレクトリ\n",
     "data_dir = project_root / \"data\"\n",
     "\n",
     "# 話者ディレクトリを取得\n",
     "speaker_dirs = [d for d in os.listdir(data_dir) if os.path.isdir(os.path.join(data_dir, d)) and not d.startswith('.')]\n",
     "print(f\"話者一覧: {speaker_dirs}\")"
    ]
   },
   {
    "cell_type": "code",
    "execution_count": null,
    "metadata": {},
    "source": [
     "# 最初の話者の最初の音声ファイルを読み込む\n",
     "speaker_dir = os.path.join(data_dir, speaker_dirs[0])\n",
     "audio_files = [f for f in os.listdir(speaker_dir) if f.endswith(('.wav', '.mp3'))]\n",
     "\n",
     "if audio_files:\n",
     "    audio_file = os.path.join(speaker_dir, audio_files[0])\n",
     "    print(f\"読み込む音声ファイル: {audio_file}\")\n",
     "    \n",
     "    # 音声の読み込み\n",
     "    y, sr = load_audio(audio_file)\n",
     "    \n",
     "    if y is not None:\n",
     "        print(f\"音声データ長さ: {len(y)} サンプル\")\n",
     "        print(f\"サンプリングレート: {sr} Hz\")\n",
     "        print(f\"音声長: {len(y)/sr:.2f} 秒\")\n",
     "        \n",
     "        # 波形の表示\n",
     "        plot_waveform(y, sr, title=f\"{speaker_dirs[0]}の波形\")\n",
     "        \n",
     "        # スペクトログラムの表示\n",
     "        plot_spectrogram(y, sr, title=f\"{speaker_dirs[0]}のスペクトログラム\")\n",
     "    else:\n",
     "        print(\"音声の読み込みに失敗しました\")\n",
     "else:\n",
     "    print(f\"{speaker_dir} には音声ファイルがありません\")"
    ]
   },
   {
    "cell_type": "markdown",
    "metadata": {},
    "source": [
     "## 2. 特徴量抽出\n",
     "\n",
     "音声から特徴量（MFCC）を抽出します。"
    ]
   },
   {
    "cell_type": "code",
    "execution_count": null,
    "metadata": {},
    "source": [
     "# 特徴量の抽出\n",
     "if 'audio_file' in locals() and y is not None:\n",
     "    features = extract_mfcc(audio_file)\n",
     "    print(f\"抽出された特徴量の形状: {features.shape}\")\n",
     "    \n",
     "    # 特徴量の可視化\n",
     "    plt.figure(figsize=(10, 4))\n",
     "    plt.bar(range(len(features)), features)\n",
     "    plt.title(\"MFCC特徴量\")\n",
     "    plt.xlabel(\"特徴量インデックス\")\n",
     "    plt.ylabel(\"値\")\n",
     "    plt.tight_layout()\n",
     "    plt.show()"
    ]
   },
   {
    "cell_type": "markdown",
    "metadata": {},
    "source": [
     "## 3. 全データからの特徴量抽出\n",
     "\n",
     "すべての話者のデータから特徴量を抽出します。"
    ]
   },
   {
    "cell_type": "code",
    "execution_count": null,
    "metadata": {},
    "source": [
     "# すべてのデータから特徴量を抽出\n",
     "features_file = data_dir / \"features.pkl\"\n",
     "\n",
     "# 特徴量ファイルが存在しない場合は抽出する\n",
     "if not os.path.exists(features_file):\n",
     "    print(\"特徴量を抽出します...\")\n",
     "    features_df = extract_features_from_dir(data_dir, features_file)\n",
     "else:\n",
     "    print(\"既存の特徴量ファイルを読み込みます...\")\n",
     "    features_df = pd.read_pickle(features_file)\n",
     "\n",
     "print(f\"特徴量データフレームの形状: {features_df.shape}\")\n",
     "print(\"\\n最初の数行:\")\n",
     "display(features_df.head())\n",
     "\n",
     "# 話者ごとのサンプル数\n",
     "speaker_counts = features_df['speaker'].value_counts()\n",
     "print(\"\\n話者ごとのサンプル数:\")\n",
     "display(speaker_counts)"
    ]
   },
   {
    "cell_type": "markdown",
    "metadata": {},
    "source": [
     "## 4. 特徴量の可視化\n",
     "\n",
     "抽出された特徴量を可視化します。"
    ]
   },
   {
    "cell_type": "code",
    "execution_count": null,
    "metadata": {},
    "source": [
     "# 特徴量の可視化（次元削減）\n",
     "from sklearn.decomposition import PCA\n",
     "from sklearn.manifold import TSNE\n",
     "\n",
     "# 特徴量の列だけを取得\n",
     "feature_cols = [col for col in features_df.columns if col.startswith('feature_')]\n",
     "X = features_df[feature_cols].values\n",
     "y = features_df['speaker'].values\n",
     "\n",
     "# PCAで2次元に削減\n",
     "pca = PCA(n_components=2)\n",
     "X_pca = pca.fit_transform(X)\n",
     "\n",
     "plt.figure(figsize=(10, 8))\n",
     "for speaker in np.unique(y):\n",
     "    plt.scatter(X_pca[y==speaker, 0], X_pca[y==speaker, 1], label=speaker, alpha=0.7)\n",
     "plt.legend()\n",
     "plt.title(\"PCAによる特徴量の可視化\")\n",
     "plt.xlabel(\"第1主成分\")\n",
     "plt.ylabel(\"第2主成分\")\n",
     "plt.grid(True, linestyle='--', alpha=0.5)\n",
     "plt.tight_layout()\n",
     "plt.show()\n",
     "\n",
     "# t-SNEで2次元に削減（データが多い場合は時間がかかるので注意）\n",
     "if len(X) < 500:  # サンプル数が多すぎる場合はスキップ\n",
     "    tsne = TSNE(n_components=2, random_state=42)\n",
     "    X_tsne = tsne.fit_transform(X)\n",
     "    \n",
     "    plt.figure(figsize=(10, 8))\n",
     "    for speaker in np.unique(y):\n",
     "        plt.scatter(X_tsne[y==speaker, 0], X_tsne[y==speaker, 1], label=speaker, alpha=0.7)\n",
     "    plt.legend()\n",
     "    plt.title(\"t-SNEによる特徴量の可視化\")\n",
     "    plt.grid(True, linestyle='--', alpha=0.5)\n",
     "    plt.tight_layout()\n",
     "    plt.show()"
    ]
   },
   {
    "cell_type": "markdown",
    "metadata": {},
    "source": [
     "## 5. モデルの訓練\n",
     "\n",
     "特徴量を使って話者認識モデルを訓練します。"
    ]
   },
   {
    "cell_type": "code",
    "execution_count": null,
    "metadata": {},
    "source": [
     "# モデルのトレーニング\n",
     "from sklearn.model_selection import train_test_split\n",
     "from sklearn.preprocessing import StandardScaler\n",
     "from sklearn.ensemble import RandomForestClassifier\n",
     "from sklearn.metrics import classification_report, confusion_matrix\n",
     "import seaborn as sns\n",
     "\n",
     "# データの分割\n",
     "X_train, X_test, y_train, y_test = train_test_split(\n",
     "    X, y, test_size=0.2, random_state=42, stratify=y\n",
     ")\n",
     "\n",
     "# 特徴量のスケーリング\n",
     "scaler = StandardScaler()\n",
     "X_train = scaler.fit_transform(X_train)\n",
     "X_test = scaler.transform(X_test)\n",
     "\n",
     "# モデルのトレーニング\n",
     "model = RandomForestClassifier(n_estimators=100, random_state=42, n_jobs=-1)\n",
     "model.fit(X_train, y_train)\n",
     "print(\"モデルのトレーニングが完了しました\")\n",
     "\n",
     "# モデルの評価\n",
     "y_pred = model.predict(X_test)\n",
     "print(\"\\n分類レポート:\")\n",
     "print(classification_report(y_test, y_pred))\n",
     "\n",
     "# 混同行列の表示\n",
     "cm = confusion_matrix(y_test, y_pred)\n",
     "plt.figure(figsize=(10, 8))\n",
     "sns.heatmap(cm, annot=True, fmt='d', cmap='Blues', \n",
     "            xticklabels=np.unique(y_test), \n",
     "            yticklabels=np.unique(y_test))\n",
     "plt.xlabel('予測')\n",
     "plt.ylabel('真値')\n",
     "plt.title('混同行列')\n",
     "plt.tight_layout()\n",
     "plt.show()"
    ]
   },
   {
    "cell_type": "markdown",
    "metadata": {},
    "source": [
     "## 6. 特徴量の重要度\n",
     "\n",
     "ランダムフォレストの特徴量重要度を確認します。"
    ]
   },
   {
    "cell_type": "code",
    "execution_count": null,
    "metadata": {},
    "source": [
     "# 特徴量の重要度\n",
     "importances = model.feature_importances_\n",
     "indices = np.argsort(importances)[::-1]\n",
     "\n",
     "plt.figure(figsize=(12, 6))\n",
     "plt.bar(range(min(30, len(importances))), importances[indices[:30]], align='center')\n",
     "plt.xticks(range(min(30, len(importances))), indices[:30])\n",
     "plt.xlabel('特徴量インデックス')\n",
     "plt.ylabel('重要度')\n",
     "plt.title('上位30の特徴量重要度')\n",
     "plt.tight_layout()\n",
     "plt.show()"
    ]
   }
  ],
  "metadata": {
   "kernelspec": {
    "display_name": "Python 3",
    "language": "python",
    "name": "python3"
   },
   "language_info": {
    "codemirror_mode": {
     "name": "ipython",
     "version": 3
    },
    "file_extension": ".py",
    "mimetype": "text/x-python",
    "name": "python",
    "nbconvert_exporter": "python",
    "pygments_lexer": "ipython3",
    "version": "3.10.12"
   }
  },
  "nbformat": 4,
  "nbformat_minor": 4
 }